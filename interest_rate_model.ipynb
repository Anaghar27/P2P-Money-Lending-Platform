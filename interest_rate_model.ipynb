{
 "cells": [
  {
   "cell_type": "markdown",
   "id": "06c5070a-a0ac-4115-bb64-2cf9616a8d54",
   "metadata": {},
   "source": [
    "## Create a model for interest rate prediction using Logistic Regression"
   ]
  },
  {
   "cell_type": "code",
   "execution_count": 50,
   "id": "d7365a31-584c-4495-abe5-f1b5259bf804",
   "metadata": {},
   "outputs": [],
   "source": [
    "import pandas as pd\n",
    "from pymongo import MongoClient\n",
    "import numpy as np\n",
    "import matplotlib.pyplot as plt\n",
    "from sklearn.model_selection import train_test_split\n",
    "from sklearn.preprocessing import LabelEncoder\n",
    "from sklearn.metrics import mean_squared_error, r2_score\n",
    "from sklearn.ensemble import RandomForestRegressor\n",
    "import pickle\n",
    "\n",
    "\n",
    "client = MongoClient(\"mongodb://localhost:27017/\")\n",
    "db = client[\"p2p_lending\"]\n",
    "\n",
    "data_set = db[\"original\"]\n",
    "\n",
    "data1 = list(data_set.find())\n",
    "data = pd.DataFrame(data1)\n",
    "\n",
    "selected_features = ['grade', 'sub_grade']\n",
    "target_variable = 'interest_rate'\n",
    "\n",
    "filtered_data = data[selected_features + [target_variable]]\n",
    "\n",
    "filtered_data = filtered_data.dropna()\n",
    "\n",
    "# Encode categorical features using label encoders\n",
    "label_encoders = {}\n",
    "for column in ['grade', 'sub_grade']:\n",
    "    le = LabelEncoder()\n",
    "    filtered_data[column] = le.fit_transform(filtered_data[column])\n",
    "    label_encoders[column] = le\n",
    "\n",
    "# Define features and target variable for the model\n",
    "X = filtered_data[selected_features]\n",
    "y = filtered_data[target_variable]"
   ]
  },
  {
   "cell_type": "code",
   "execution_count": 51,
   "id": "65bfd0c0-39bb-466a-81a0-b7e96cc14a76",
   "metadata": {},
   "outputs": [
    {
     "name": "stdout",
     "output_type": "stream",
     "text": [
      "Mean Squared Error (MSE): 0.2139354148168502\n",
      "R Squared Score : 0.9913870612200697\n"
     ]
    }
   ],
   "source": [
    "# Split the data into training and testing set\n",
    "X_train, X_test, y_train, y_test = train_test_split(X, y, test_size=0.2, random_state=42)\n",
    "\n",
    "# Train the model\n",
    "model = RandomForestRegressor(random_state=42)\n",
    "model.fit(X_train, y_train)\n",
    "\n",
    "# Make predictions using test set \n",
    "y_pred = model.predict(X_test)\n",
    "\n",
    "# Display the performance metrics\n",
    "mse = mean_squared_error(y_test, y_pred)\n",
    "r2 = r2_score(y_test, y_pred)\n",
    "\n",
    "print(\"Mean Squared Error (MSE):\", mse)\n",
    "print(\"R Squared Score :\",r2)\n"
   ]
  },
  {
   "cell_type": "code",
   "execution_count": 52,
   "id": "d12f353a-a9b3-4ad7-a571-957ac93b51bd",
   "metadata": {},
   "outputs": [
    {
     "name": "stdout",
     "output_type": "stream",
     "text": [
      "               Model       MSE  Accuracy (%)\n",
      "0  Linear Regression  0.518697     97.911749\n",
      "1      Random Forest  0.213906     99.138823\n"
     ]
    }
   ],
   "source": [
    "print(performance_df)"
   ]
  },
  {
   "cell_type": "code",
   "execution_count": 53,
   "id": "efc9c5b7-fcd1-4af5-92f6-27c59ef76063",
   "metadata": {},
   "outputs": [
    {
     "data": {
      "image/png": "[encoded data removed]",
      "text/plain": [
       "<Figure size 640x480 with 1 Axes>"
      ]
     },
     "metadata": {},
     "output_type": "display_data"
    }
   ],
   "source": [
    "# Display the feature importance of the model using a horizontal bar graph\n",
    "feature_importances = model.feature_importances_\n",
    "plt.barh(X.columns, feature_importances)\n",
    "plt.xlabel(\"Feature Importance\")\n",
    "plt.title(\"Feature Importance in Interest Rate Prediction\")\n",
    "plt.show()"
   ]
  },
  {
   "cell_type": "code",
   "execution_count": 54,
   "id": "4bae85fc-6364-40a5-b07c-2d3dffaa9523",
   "metadata": {},
   "outputs": [
    {
     "name": "stdout",
     "output_type": "stream",
     "text": [
      "Encoders saved successfully!\n",
      "Model successfully saved as interest_model.pkl.\n"
     ]
    }
   ],
   "source": [
    "# Save the logistic regression model\n",
    "model_filename = 'interest_model.pkl'\n",
    "with open(model_filename, 'wb') as file:\n",
    "    pickle.dump(model, file)\n",
    "with open('interest_label_encoders.pkl', 'wb') as f:\n",
    "    pickle.dump(label_encoders, f)\n",
    "print(\"Encoders saved successfully!\")\n",
    "print(f\"Model successfully saved as {model_filename}.\")"
   ]
  },
  {
   "cell_type": "code",
   "execution_count": null,
   "id": "666c63b4-afcf-4197-8c17-3abef8105516",
   "metadata": {},
   "outputs": [],
   "source": []
  }
 ],
 "metadata": {
  "kernelspec": {
   "display_name": "Python 3 (ipykernel)",
   "language": "python",
   "name": "python3"
  },
  "language_info": {
   "codemirror_mode": {
    "name": "ipython",
    "version": 3
   },
   "file_extension": ".py",
   "mimetype": "text/x-python",
   "name": "python",
   "nbconvert_exporter": "python",
   "pygments_lexer": "ipython3",
   "version": "3.12.4"
  }
 },
 "nbformat": 4,
 "nbformat_minor": 5
}
